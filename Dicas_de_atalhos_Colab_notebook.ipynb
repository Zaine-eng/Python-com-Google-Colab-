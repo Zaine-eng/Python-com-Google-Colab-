{
  "nbformat": 4,
  "nbformat_minor": 0,
  "metadata": {
    "colab": {
      "provenance": [],
      "authorship_tag": "ABX9TyO5DWbo8E7AkxEeAS/zZ1AC",
      "include_colab_link": true
    },
    "kernelspec": {
      "name": "python3",
      "display_name": "Python 3"
    },
    "language_info": {
      "name": "python"
    }
  },
  "cells": [
    {
      "cell_type": "markdown",
      "metadata": {
        "id": "view-in-github",
        "colab_type": "text"
      },
      "source": [
        "<a href=\"https://colab.research.google.com/github/Zaine-eng/Python-para-analise-de-dados/blob/main/Dicas_de_atalhos_Colab_notebook.ipynb\" target=\"_parent\"><img src=\"https://colab.research.google.com/assets/colab-badge.svg\" alt=\"Open In Colab\"/></a>"
      ]
    },
    {
      "cell_type": "markdown",
      "source": [
        "# **Atalhos Colab Notebook** 🔔"
      ],
      "metadata": {
        "id": "v5Vi3onrMss_"
      }
    },
    {
      "cell_type": "markdown",
      "source": [
        "Quem ai gosta de usar os atalhos do teclado para facilitar os trabalhos? Pois bem, eu também sou essa pessoa, por isso, vou deixar algumas dicas abaixo de como utilizar o Colab Notebook. Bora lá?! \n"
      ],
      "metadata": {
        "id": "o6ato1GnLq9I"
      }
    },
    {
      "cell_type": "markdown",
      "source": [
        "\n",
        "\n",
        "0. 'Esc' - Saí do modo edição da célula atual (modo navegação);\n",
        "\n",
        "1. 'Enter' - Edita a célula selecionada (modo navegação);\n",
        "\n",
        "2. 'Shift + Enter' - Executa a célula selecionada (modo edição);\n",
        "\n",
        "3. 'A' - Adiciona uma nova célula acima da célula atual (modo navegação);\n",
        "\n",
        "4. 'B' - Adiciona uma nova célula abaixo da célula atual (modo navegação);\n",
        "\n",
        "5. 'X' - Recorta a célula selecionada (modo navegação);\n",
        "\n",
        "6. 'Z' - Desfaz a deleção de uma célula (modo navegação);\n",
        "\n",
        "7. 'Ctrl + Z' - Desfaz as últimas edições (modo edição);\n",
        "\n",
        "8. 'Ctrl + Shift + Z' - Refaz o último comando de desfazer (modo edição);\n",
        "\n",
        "9. 'H' - Abre um arquivo de ajuda com todos os atalhos (modo navegação);\n",
        "\n",
        "10. 'Tab' - Faz sugestões para completar o código (modo edição);\n",
        "\n",
        "11. 'Shift + Tab' - Faz sugestões de assinatura de um método ou função (modo edição);\n",
        "\n",
        "12. '?função' - Mostra a documentação de uma dada função (modo edição).\n"
      ],
      "metadata": {
        "id": "t9Nl7SsDNoav"
      }
    },
    {
      "cell_type": "markdown",
      "source": [
        "Espero que você utilize essas dicas! "
      ],
      "metadata": {
        "id": "mmISO_S4Ov93"
      }
    },
    {
      "cell_type": "markdown",
      "source": [
        "________________________________________________________________________________"
      ],
      "metadata": {
        "id": "tTo--7a8X6G6"
      }
    }
  ]
}